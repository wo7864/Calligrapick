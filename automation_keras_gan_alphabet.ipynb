{
  "nbformat": 4,
  "nbformat_minor": 0,
  "metadata": {
    "colab": {
      "name": "automation_keras_gan_alphabet.ipynb",
      "version": "0.3.2",
      "provenance": [],
      "collapsed_sections": [],
      "include_colab_link": true
    },
    "kernelspec": {
      "name": "python3",
      "display_name": "Python 3"
    },
    "accelerator": "GPU"
  },
  "cells": [
    {
      "cell_type": "markdown",
      "metadata": {
        "id": "view-in-github",
        "colab_type": "text"
      },
      "source": [
        "<a href=\"https://colab.research.google.com/github/wo7864/Calligrapick/blob/master/automation_keras_gan_alphabet.ipynb\" target=\"_parent\"><img src=\"https://colab.research.google.com/assets/colab-badge.svg\" alt=\"Open In Colab\"/></a>"
      ]
    },
    {
      "cell_type": "markdown",
      "metadata": {
        "id": "UZqDpAqN5zQZ",
        "colab_type": "text"
      },
      "source": [
        "## Define channel order, module"
      ]
    },
    {
      "cell_type": "code",
      "metadata": {
        "id": "B-OfXDMQVpDv",
        "colab_type": "code",
        "outputId": "8e2f75aa-e2e1-4879-e828-9d5d63753fb6",
        "colab": {
          "base_uri": "https://localhost:8080/",
          "height": 125
        }
      },
      "source": [
        "from google.colab import drive\n",
        "\n",
        "drive.mount('/content/gdrive')\n"
      ],
      "execution_count": 1,
      "outputs": [
        {
          "output_type": "stream",
          "text": [
            "Go to this URL in a browser: https://accounts.google.com/o/oauth2/auth?client_id=947318989803-6bn6qk8qdgf4n4g3pfee6491hc0brc4i.apps.googleusercontent.com&redirect_uri=urn%3Aietf%3Awg%3Aoauth%3A2.0%3Aoob&scope=email%20https%3A%2F%2Fwww.googleapis.com%2Fauth%2Fdocs.test%20https%3A%2F%2Fwww.googleapis.com%2Fauth%2Fdrive%20https%3A%2F%2Fwww.googleapis.com%2Fauth%2Fdrive.photos.readonly%20https%3A%2F%2Fwww.googleapis.com%2Fauth%2Fpeopleapi.readonly&response_type=code\n",
            "\n",
            "Enter your authorization code:\n",
            "··········\n",
            "Mounted at /content/gdrive\n"
          ],
          "name": "stdout"
        }
      ]
    },
    {
      "cell_type": "code",
      "metadata": {
        "id": "APCi0uB8VpIa",
        "colab_type": "code",
        "colab": {}
      },
      "source": [
        "import numpy as np \n",
        "import pandas as pd \n",
        "#import matplotlib.pyplot as plt\n",
        "#import seaborn as sns\n",
        "#import os\n",
        "#import tensorflow as tf\n",
        "#from keras.models import Sequential, Model\n",
        "#from keras.layers import Dense, Input\n",
        "#from keras.layers import Dropout\n",
        "#from keras.layers import Flatten\n",
        "#from keras.layers.convolutional import Conv2D\n",
        "#from keras.layers.convolutional import MaxPooling2D\n",
        "#from keras import backend as K\n",
        "#from sklearn.metrics import confusion_matrix\n",
        "#import keras\n",
        "#from tqdm import tqdm\n",
        "#from keras.layers.advanced_activations import LeakyReLU\n",
        "#from keras.optimizers import Adam\n",
        "\n",
        "all_dataset = pd.read_csv('/content/gdrive/My Drive/data/A_Z Handwritten Data.csv').astype('float32')\n",
        "\n"
      ],
      "execution_count": 0,
      "outputs": []
    },
    {
      "cell_type": "code",
      "metadata": {
        "id": "mou0xXqVv4r9",
        "colab_type": "code",
        "outputId": "6e734efc-d2fb-4f25-975a-c41096e6492c",
        "colab": {
          "base_uri": "https://localhost:8080/",
          "height": 105
        }
      },
      "source": [
        "dataset = all_dataset.loc[all_dataset['0'] == 1]\n",
        "#print(dataset)\n",
        "dataset.rename(columns={'0':'label'}, inplace=True)\n",
        "\n",
        "# Splite data the X - Our data , and y - the prdict label\n",
        "X = dataset.drop('label',axis = 1)\n",
        "y = dataset['label']"
      ],
      "execution_count": 43,
      "outputs": [
        {
          "output_type": "stream",
          "text": [
            "/usr/local/lib/python3.6/dist-packages/pandas/core/frame.py:4025: SettingWithCopyWarning: \n",
            "A value is trying to be set on a copy of a slice from a DataFrame\n",
            "\n",
            "See the caveats in the documentation: http://pandas.pydata.org/pandas-docs/stable/indexing.html#indexing-view-versus-copy\n",
            "  return super(DataFrame, self).rename(**kwargs)\n"
          ],
          "name": "stderr"
        }
      ]
    },
    {
      "cell_type": "code",
      "metadata": {
        "id": "lai9w1hwVpnW",
        "colab_type": "code",
        "colab": {}
      },
      "source": [
        "from sklearn.model_selection import train_test_split\n",
        "from sklearn.preprocessing import MinMaxScaler\n",
        "\n",
        "# splite the data\n",
        "X_train, X_test, y_train, y_test = train_test_split(X,y)\n",
        "\n",
        "# scale data\n",
        "standard_scaler = MinMaxScaler()\n",
        "standard_scaler.fit(X_train)\n",
        "\n",
        "X_train = standard_scaler.transform(X_train)\n",
        "X_test = standard_scaler.transform(X_test)"
      ],
      "execution_count": 0,
      "outputs": []
    },
    {
      "cell_type": "code",
      "metadata": {
        "id": "NBmv_OBr5m8O",
        "colab_type": "code",
        "colab": {}
      },
      "source": [
        "import argparse\n",
        "\n",
        "import numpy as np\n",
        "import matplotlib.pyplot as plt\n",
        "\n",
        "from keras.models import Model, Sequential\n",
        "from keras.layers.core import Reshape, Dense, Dropout, Flatten\n",
        "from keras.layers.advanced_activations import LeakyReLU\n",
        "from keras.layers.convolutional import Conv2D, MaxPooling2D, UpSampling2D\n",
        "from keras.layers.normalization import BatchNormalization\n",
        "from keras.datasets import mnist\n",
        "from keras.optimizers import Adam\n",
        "from keras import initializers\n",
        "from keras import backend as K\n",
        "\n",
        "\n",
        "K.set_image_data_format('channels_first')"
      ],
      "execution_count": 0,
      "outputs": []
    },
    {
      "cell_type": "code",
      "metadata": {
        "id": "SVlnLFo2ZruA",
        "colab_type": "code",
        "colab": {}
      },
      "source": [
        "from keras.utils import np_utils\n",
        "\n",
        "X_train = X_train.reshape(X_train.shape[0], 28, 28).astype('float32')\n",
        "X_test = X_test.reshape(X_test.shape[0], 28, 28).astype('float32')\n",
        "\n",
        "y_train = np_utils.to_categorical(y_train)\n",
        "y_test = np_utils.to_categorical(y_test)\n",
        "X_train = np.multiply(X_train, 255.)\n"
      ],
      "execution_count": 0,
      "outputs": []
    },
    {
      "cell_type": "markdown",
      "metadata": {
        "id": "8LTA95-D58gg",
        "colab_type": "text"
      },
      "source": [
        "## Define Dataset"
      ]
    },
    {
      "cell_type": "code",
      "metadata": {
        "id": "_C4wa1p35-3s",
        "colab_type": "code",
        "colab": {}
      },
      "source": [
        "class Data:\n",
        "    \"\"\"\n",
        "    Define dataset for training GAN\n",
        "    \"\"\"\n",
        "    def __init__(self, batch_size, z_input_dim, X_train):\n",
        "        # load mnist dataset\n",
        "        # 이미지는 보통 -1~1 사이의 값으로 normalization : generator의 outputlayer를 tanh로\n",
        "        #(X_train, y_train), (X_test, y_test) = mnist.load_data()\n",
        "        self.x_data = ((X_train.astype(np.float32) - 127.5) / 127.5)\n",
        "        self.x_data = self.x_data.reshape((self.x_data.shape[0], 1) + self.x_data.shape[1:])\n",
        "        self.batch_size = batch_size\n",
        "        self.z_input_dim = z_input_dim\n",
        "\n",
        "    def get_real_sample(self):\n",
        "        \"\"\"\n",
        "        get real sample mnist images\n",
        "\n",
        "        :return: batch_size number of mnist image data\n",
        "        \"\"\"\n",
        "        return self.x_data[np.random.randint(0, self.x_data.shape[0], size=self.batch_size)]\n",
        "\n",
        "    def get_z_sample(self, sample_size):\n",
        "        \"\"\"\n",
        "        get z sample data\n",
        "\n",
        "        :return: random z data (batch_size, z_input_dim) size\n",
        "        \"\"\"\n",
        "        z = np.random.uniform(-1.0, 1.0, (sample_size, self.z_input_dim))\n",
        "        #z = np.zeros((100,100))\n",
        "        return z\n",
        "    "
      ],
      "execution_count": 0,
      "outputs": []
    },
    {
      "cell_type": "markdown",
      "metadata": {
        "id": "5Uu0cTJq6FeX",
        "colab_type": "text"
      },
      "source": [
        "- Mnist data test"
      ]
    },
    {
      "cell_type": "code",
      "metadata": {
        "id": "tP3VXE176IJx",
        "colab_type": "code",
        "outputId": "a8fbbad7-014d-40bc-b658-81b056ee4114",
        "colab": {
          "base_uri": "https://localhost:8080/",
          "height": 169
        }
      },
      "source": [
        "data = Data(batch_size=2, z_input_dim=10)"
      ],
      "execution_count": 79,
      "outputs": [
        {
          "output_type": "error",
          "ename": "TypeError",
          "evalue": "ignored",
          "traceback": [
            "\u001b[0;31m---------------------------------------------------------------------------\u001b[0m",
            "\u001b[0;31mTypeError\u001b[0m                                 Traceback (most recent call last)",
            "\u001b[0;32m<ipython-input-79-416405136f7c>\u001b[0m in \u001b[0;36m<module>\u001b[0;34m()\u001b[0m\n\u001b[0;32m----> 1\u001b[0;31m \u001b[0mdata\u001b[0m \u001b[0;34m=\u001b[0m \u001b[0mData\u001b[0m\u001b[0;34m(\u001b[0m\u001b[0mbatch_size\u001b[0m\u001b[0;34m=\u001b[0m\u001b[0;36m2\u001b[0m\u001b[0;34m,\u001b[0m \u001b[0mz_input_dim\u001b[0m\u001b[0;34m=\u001b[0m\u001b[0;36m10\u001b[0m\u001b[0;34m)\u001b[0m\u001b[0;34m\u001b[0m\u001b[0;34m\u001b[0m\u001b[0m\n\u001b[0m",
            "\u001b[0;31mTypeError\u001b[0m: __init__() missing 1 required positional argument: 'Xtrain'"
          ]
        }
      ]
    },
    {
      "cell_type": "markdown",
      "metadata": {
        "id": "WBttxOqW62BX",
        "colab_type": "text"
      },
      "source": [
        "## GAN 모델 정의\n",
        "\n",
        "- discriminator : CNN 판별기로 모델링\n",
        "- generator : input Z를 확장한 뒤 CNN 생성기로 모델링"
      ]
    },
    {
      "cell_type": "code",
      "metadata": {
        "id": "wbWs_j2I6YqR",
        "colab_type": "code",
        "colab": {}
      },
      "source": [
        "class GAN:\n",
        "    def __init__(self, learning_rate, z_input_dim):\n",
        "        \"\"\"\n",
        "        init params\n",
        "\n",
        "        :param learning_rate: learning rate of optimizer\n",
        "        :param z_input_dim: input dim of z\n",
        "        \"\"\"\n",
        "        self.learning_rate = learning_rate\n",
        "        self.z_input_dim = z_input_dim\n",
        "        self.D = self.discriminator()\n",
        "        self.G = self.generator()\n",
        "        self.GD = self.combined()\n",
        "\n",
        "    def discriminator(self):\n",
        "        \"\"\"\n",
        "        define discriminator\n",
        "        \"\"\"\n",
        "        D = Sequential()\n",
        "        D.add(Conv2D(256, (5, 5),\n",
        "                     padding='same',\n",
        "                     input_shape=(1, 28, 28),\n",
        "                     kernel_initializer=initializers.RandomNormal(stddev=0.02)))\n",
        "        D.add(LeakyReLU(0.2))\n",
        "        D.add(MaxPooling2D(pool_size=(2, 2), strides=2))\n",
        "        D.add(Dropout(0.3))\n",
        "        D.add(Conv2D(512, (5, 5), padding='same'))\n",
        "        D.add(LeakyReLU(0.2))\n",
        "        D.add(MaxPooling2D(pool_size=(2, 2), strides=2))\n",
        "        D.add(Dropout(0.3))\n",
        "        D.add(Flatten())\n",
        "        D.add(Dense(256))\n",
        "        D.add(LeakyReLU(0.2))\n",
        "        D.add(Dropout(0.3))\n",
        "        D.add(Dense(1, activation='softplus'))\n",
        "\n",
        "        #D.add(Dense(1, activation='sigmoid'))\n",
        "\n",
        "        adam = Adam(lr=self.learning_rate, beta_1=0.5)\n",
        "        D.compile(loss='binary_crossentropy', optimizer=adam, metrics=['accuracy'])\n",
        "        return D\n",
        "\n",
        "    def generator(self):\n",
        "        \"\"\"\n",
        "        define generator\n",
        "        \"\"\"\n",
        "        G = Sequential()\n",
        "        G.add(Dense(512, input_dim=self.z_input_dim))\n",
        "        G.add(LeakyReLU(0.2))\n",
        "        G.add(Dense(128 * 7 * 7))\n",
        "        G.add(LeakyReLU(0.2))\n",
        "        G.add(BatchNormalization())\n",
        "        G.add(Reshape((128, 7, 7), input_shape=(128 * 7 * 7,)))\n",
        "        G.add(UpSampling2D(size=(2, 2)))\n",
        "        G.add(Conv2D(64, (5, 5), padding='same', activation='tanh'))\n",
        "        G.add(UpSampling2D(size=(2, 2)))\n",
        "        G.add(Conv2D(1, (5, 5), padding='same', activation='tanh'))\n",
        "\n",
        "        adam = Adam(lr=self.learning_rate, beta_1=0.5)\n",
        "        G.compile(loss='binary_crossentropy', optimizer=adam, metrics=['accuracy'])\n",
        "        return G\n",
        "\n",
        "    def combined(self):\n",
        "        \"\"\"\n",
        "        defien combined gan model\n",
        "        \"\"\"\n",
        "        G, D = self.G, self.D\n",
        "        D.trainable = False\n",
        "        GD = Sequential()\n",
        "        GD.add(G)\n",
        "        GD.add(D)\n",
        "\n",
        "        adam = Adam(lr=self.learning_rate, beta_1=0.5)\n",
        "        GD.compile(loss='binary_crossentropy', optimizer=adam, metrics=['accuracy'])\n",
        "        D.trainable = True\n",
        "        return GD\n"
      ],
      "execution_count": 0,
      "outputs": []
    },
    {
      "cell_type": "markdown",
      "metadata": {
        "id": "GjzV3EMG7J91",
        "colab_type": "text"
      },
      "source": [
        "## Learner 구성\n",
        "\n",
        "- discriminator와 generator를 다른 epoch 비율로 학습 가능하도록 구성\n",
        "- 20 epoch 마다 이미지 생성\n",
        "- D, G를 각각 학습\n",
        "- 학습 완료 후 loss graph 생성"
      ]
    },
    {
      "cell_type": "code",
      "metadata": {
        "id": "UcZP9H6b7FFF",
        "colab_type": "code",
        "colab": {}
      },
      "source": [
        "class Model:\n",
        "    def __init__(self, batch_size, epochs, learning_rate, z_input_dim, n_iter_D, n_iter_G, target, X_train):\n",
        "        self.epochs = epochs\n",
        "        self.batch_size = batch_size\n",
        "        self.learning_rate = learning_rate\n",
        "        self.z_input_dim = z_input_dim\n",
        "        self.data = Data(self.batch_size, self.z_input_dim, X_train)\n",
        "        self.target = target\n",
        "        self.pre_g_loss = 0.123456789\n",
        "        # the reason why D, G differ in iter : Generator needs more training than Discriminator\n",
        "        self.n_iter_D = n_iter_D\n",
        "        self.n_iter_G = n_iter_G\n",
        "        self.gan = GAN(self.learning_rate, self.z_input_dim)\n",
        "       \n",
        "\n",
        "        # print status\n",
        "        batch_count = self.data.x_data.shape[0] / self.batch_size\n",
        "        #print('Epochs:', self.epochs)\n",
        "        #print('Batch size:', self.batch_size)\n",
        "        #print('Batches per epoch:', batch_count)\n",
        "        #print('Learning rate:', self.learning_rate)\n",
        "        #print('Image data format:', K.image_data_format())\n",
        "\n",
        "    def fit(self):\n",
        "        self.d_loss = []\n",
        "        self.g_loss = []\n",
        "        for epoch in range(self.epochs):\n",
        "            # train discriminator by real data\n",
        "            dloss = 0\n",
        "            for iter in range(self.n_iter_D):\n",
        "                dloss = self.train_D()\n",
        "\n",
        "            # train GD by generated fake data\n",
        "            gloss = 0\n",
        "            for iter in range(self.n_iter_G):\n",
        "                gloss = self.train_G()\n",
        "            if gloss == self.pre_g_loss:\n",
        "                print(\"Fail,\")\n",
        "                break\n",
        "            self.pre_g_loss = gloss\n",
        "            # save loss data\n",
        "            self.d_loss.append(dloss)\n",
        "            self.g_loss.append(gloss)\n",
        "\n",
        "            # plot and save model each 20n epoch\n",
        "            if epoch % 50 == 0 and epoch != 0:\n",
        "                self.plot_generate_images(epoch, self.gan.G, examples=100)\n",
        "                #print('Epoch:', str(epoch))\n",
        "                #print('Discriminator loss:', str(dloss))\n",
        "                #print('Generator loss:', str(gloss))\n",
        "                if epoch % 50 == 0 and epoch >0:\n",
        "                  model_json = self.gan.G.to_json()\n",
        "                  with open(\"/content/gdrive/My Drive/celligrapick/model/{}/{}_{}.json\".format(self.target, self.target, epoch), \"w\") as json_file : \n",
        "                      json_file.write(model_json)\n",
        "                  self.gan.G.save_weights(\"/content/gdrive/My Drive/celligrapick/model/{}/{}_{}.h5\".format(self.target, self.target, epoch))\n",
        "\n",
        "        # show loss after train\n",
        "        self.plot_loss_graph(self.g_loss, self.d_loss)\n",
        "\n",
        "    def train_D(self):\n",
        "        \"\"\"\n",
        "        train Discriminator\n",
        "        \"\"\"\n",
        "\n",
        "        # Real data\n",
        "        real = self.data.get_real_sample()\n",
        "\n",
        "        # Generated data\n",
        "        z = self.data.get_z_sample(self.batch_size)\n",
        "        generated_images = self.gan.G.predict(z)\n",
        "        x = np.concatenate((real, generated_images), axis=0)\n",
        "\n",
        "        y = [0.9] * self.batch_size + [0] * self.batch_size\n",
        "\n",
        "        # train discriminator\n",
        "        self.gan.D.trainable = True\n",
        "        loss = self.gan.D.train_on_batch(x, y)\n",
        "        return loss\n",
        "\n",
        "    def train_G(self):\n",
        "        \"\"\"\n",
        "        train Generator\n",
        "        \"\"\"\n",
        "\n",
        "        # Generated data\n",
        "        z = self.data.get_z_sample(self.batch_size)\n",
        "\n",
        "        # labeling\n",
        "        y = [1] * self.batch_size\n",
        "\n",
        "        # train generator\n",
        "        self.gan.D.trainable = False\n",
        "        loss = self.gan.GD.train_on_batch(z, y)\n",
        "        return loss\n",
        "\n",
        "    def plot_loss_graph(self, g_loss, d_loss):\n",
        "        \"\"\"\n",
        "        Save training loss graph\n",
        "        \"\"\"\n",
        "\n",
        "        # show loss graph\n",
        "        plt.figure(figsize=(10, 8))\n",
        "        plt.plot(d_loss, label='Discriminator loss')\n",
        "        plt.plot(g_loss, label='Generator loss')\n",
        "        plt.xlabel('Epoch')\n",
        "        plt.ylabel('Loss')\n",
        "        plt.legend()\n",
        "        plt.show()\n",
        "\n",
        "    def plot_generate_images(self, epoch, generator, examples=8):\n",
        "        \"\"\"\n",
        "        Save generated mnist images\n",
        "        \"\"\"\n",
        "        # plt info\n",
        "        dim = (10, 10)\n",
        "        figsize = (10, 10)\n",
        "\n",
        "        # generate images\n",
        "        z = self.data.get_z_sample(examples)\n",
        "        z_list = ''\n",
        "        for i in z:\n",
        "          z_list += str(i)\n",
        "        with open(\"/content/gdrive/My Drive/celligrapick/z_value/{}_{}.txt\".format(self.target, epoch), \"w\") as f : \n",
        "                      f.write(z_list)\n",
        "        generated_images = generator.predict(z)\n",
        "\n",
        "        # show images\n",
        "        plt.figure(figsize=figsize)\n",
        "        save_img = np.zeros((280,280))\n",
        "\n",
        "        for i in range(generated_images.shape[0]):\n",
        "            one = i % 10\n",
        "            ten = int(i/10)\n",
        "            save_img[one*28:(one+1)*28,ten*28:(ten+1)*28] = generated_images[i].reshape((28,28))\n",
        "            plt.subplot(dim[0], dim[1], i + 1)\n",
        "            plt.imshow(generated_images[i].reshape((28, 28)), interpolation='nearest', cmap='gray_r')\n",
        "            plt.axis('off')\n",
        "            \n",
        "        plt.tight_layout()\n",
        "        #plt.show()\n",
        "        plt.imsave(\"/content/gdrive/My Drive/celligrapick/img/{}/{}_{}.png\".format(self.target, self.target, epoch),save_img)\n"
      ],
      "execution_count": 0,
      "outputs": []
    },
    {
      "cell_type": "markdown",
      "metadata": {
        "id": "LnwetMR87-Za",
        "colab_type": "text"
      },
      "source": [
        "## 학습 진행"
      ]
    },
    {
      "cell_type": "code",
      "metadata": {
        "id": "U2mIyr0c75-Y",
        "colab_type": "code",
        "outputId": "60d482b8-684b-4ae3-9d9e-f68fd00db457",
        "colab": {
          "base_uri": "https://localhost:8080/",
          "height": 1000
        }
      },
      "source": [
        "def main():\n",
        "    # set hyper parameters    \n",
        "    batch_size = 100\n",
        "    epochs = 500\n",
        "    learning_rate = 0.0001\n",
        "    z_input_dim = 100\n",
        "    n_iter_D = 1\n",
        "    n_iter_G = 10\n",
        "\n",
        "\n",
        "    # run model\n",
        "    target_list = ['A','B','C','D','E']\n",
        "    for idx, target in enumerate(target_list):\n",
        "        print(idx)\n",
        "        dataset = all_dataset.loc[all_dataset['0'] == idx]\n",
        "        #print(dataset)\n",
        "        dataset.rename(columns={'0':'label'}, inplace=True)\n",
        "\n",
        "        # Splite data the X - Our data , and y - the prdict label\n",
        "        X = dataset.drop('label',axis = 1)\n",
        "        y = dataset['label']\n",
        "\n",
        "        # splite the data\n",
        "        X_train, X_test, y_train, y_test = train_test_split(X,y)\n",
        "\n",
        "        # scale data\n",
        "        standard_scaler = MinMaxScaler()\n",
        "        standard_scaler.fit(X_train)\n",
        "\n",
        "        X_train = standard_scaler.transform(X_train)\n",
        "        X_test = standard_scaler.transform(X_test)\n",
        "\n",
        "        X_train = X_train.reshape(X_train.shape[0], 28, 28).astype('float32')\n",
        "        X_test = X_test.reshape(X_test.shape[0], 28, 28).astype('float32')\n",
        "\n",
        "        y_train = np_utils.to_categorical(y_train)\n",
        "        y_test = np_utils.to_categorical(y_test)\n",
        "        X_train = np.multiply(X_train, 255.)\n",
        "\n",
        "        model = Model(batch_size, epochs, learning_rate, z_input_dim, n_iter_D, n_iter_G, target, X_train)\n",
        "        model.fit()\n",
        "\n",
        "\n",
        "if __name__ == '__main__':\n",
        "    main()"
      ],
      "execution_count": 0,
      "outputs": [
        {
          "output_type": "stream",
          "text": [
            "0\n"
          ],
          "name": "stdout"
        },
        {
          "output_type": "stream",
          "text": [
            "/usr/local/lib/python3.6/dist-packages/pandas/core/frame.py:4025: SettingWithCopyWarning: \n",
            "A value is trying to be set on a copy of a slice from a DataFrame\n",
            "\n",
            "See the caveats in the documentation: http://pandas.pydata.org/pandas-docs/stable/indexing.html#indexing-view-versus-copy\n",
            "  return super(DataFrame, self).rename(**kwargs)\n"
          ],
          "name": "stderr"
        },
        {
          "output_type": "display_data",
          "data": {
            "image/png": "[encoded data removed]",
            "text/plain": [
              "<Figure size 720x576 with 1 Axes>"
            ]
          },
          "metadata": {
            "tags": []
          }
        },
        {
          "output_type": "stream",
          "text": [
            "1\n"
          ],
          "name": "stdout"
        },
        {
          "output_type": "stream",
          "text": [
            "/usr/local/lib/python3.6/dist-packages/pandas/core/frame.py:4025: SettingWithCopyWarning: \n",
            "A value is trying to be set on a copy of a slice from a DataFrame\n",
            "\n",
            "See the caveats in the documentation: http://pandas.pydata.org/pandas-docs/stable/indexing.html#indexing-view-versus-copy\n",
            "  return super(DataFrame, self).rename(**kwargs)\n"
          ],
          "name": "stderr"
        },
        {
          "output_type": "display_data",
          "data": {
            "image/png": "[encoded data removed]",
            "text/plain": [
              "<Figure size 720x576 with 1 Axes>"
            ]
          },
          "metadata": {
            "tags": []
          }
        },
        {
          "output_type": "stream",
          "text": [
            "2\n"
          ],
          "name": "stdout"
        },
        {
          "output_type": "stream",
          "text": [
            "/usr/local/lib/python3.6/dist-packages/pandas/core/frame.py:4025: SettingWithCopyWarning: \n",
            "A value is trying to be set on a copy of a slice from a DataFrame\n",
            "\n",
            "See the caveats in the documentation: http://pandas.pydata.org/pandas-docs/stable/indexing.html#indexing-view-versus-copy\n",
            "  return super(DataFrame, self).rename(**kwargs)\n"
          ],
          "name": "stderr"
        }
      ]
    },
    {
      "cell_type": "markdown",
      "metadata": {
        "id": "NVhN5VeLCf9w",
        "colab_type": "text"
      },
      "source": [
        "## 참고 : 모델 시각화"
      ]
    },
    {
      "cell_type": "code",
      "metadata": {
        "id": "WUPFmJsp8AFj",
        "colab_type": "code",
        "outputId": "f2d7f40e-2c48-4152-f2e3-aa881212361d",
        "colab": {
          "base_uri": "https://localhost:8080/",
          "height": 2985
        }
      },
      "source": [
        "!apt-get install graphviz\n",
        "!pip install -q pydot\n",
        "!pip install graphviz\n",
        "\n",
        "\n",
        "from IPython.display import SVG\n",
        "from keras.utils.vis_utils import model_to_dot"
      ],
      "execution_count": 0,
      "outputs": [
        {
          "output_type": "stream",
          "text": [
            "Reading package lists... Done\n",
            "Building dependency tree       \n",
            "Reading state information... Done\n",
            "The following additional packages will be installed:\n",
            "  fontconfig libcairo2 libcdt5 libcgraph6 libdatrie1 libgd3 libgraphite2-3\n",
            "  libgvc6 libgvpr2 libharfbuzz0b libjbig0 libltdl7 libpango-1.0-0\n",
            "  libpangocairo-1.0-0 libpangoft2-1.0-0 libpathplan4 libpixman-1-0\n",
            "  libthai-data libthai0 libtiff5 libwebp6 libxaw7 libxcb-render0 libxcb-shm0\n",
            "  libxmu6 libxpm4 libxt6\n",
            "Suggested packages:\n",
            "  gsfonts graphviz-doc libgd-tools\n",
            "The following NEW packages will be installed:\n",
            "  fontconfig graphviz libcairo2 libcdt5 libcgraph6 libdatrie1 libgd3\n",
            "  libgraphite2-3 libgvc6 libgvpr2 libharfbuzz0b libjbig0 libltdl7\n",
            "  libpango-1.0-0 libpangocairo-1.0-0 libpangoft2-1.0-0 libpathplan4\n",
            "  libpixman-1-0 libthai-data libthai0 libtiff5 libwebp6 libxaw7 libxcb-render0\n",
            "  libxcb-shm0 libxmu6 libxpm4 libxt6\n",
            "0 upgraded, 28 newly installed, 0 to remove and 0 not upgraded.\n",
            "Need to get 4,122 kB of archives.\n",
            "After this operation, 20.6 MB of additional disk space will be used.\n",
            "Get:1 http://archive.ubuntu.com/ubuntu artful/main amd64 fontconfig amd64 2.11.94-0ubuntu2 [177 kB]\n",
            "Get:2 http://archive.ubuntu.com/ubuntu artful/main amd64 libjbig0 amd64 2.1-3.1 [26.6 kB]\n",
            "Get:3 http://archive.ubuntu.com/ubuntu artful/main amd64 libcdt5 amd64 2.38.0-16ubuntu2 [19.5 kB]\n",
            "Get:4 http://archive.ubuntu.com/ubuntu artful/main amd64 libcgraph6 amd64 2.38.0-16ubuntu2 [40.0 kB]\n",
            "Get:5 http://archive.ubuntu.com/ubuntu artful-updates/main amd64 libtiff5 amd64 4.0.8-5ubuntu0.1 [150 kB]\n",
            "Get:6 http://archive.ubuntu.com/ubuntu artful/main amd64 libwebp6 amd64 0.6.0-3 [181 kB]\n",
            "Get:7 http://archive.ubuntu.com/ubuntu artful/main amd64 libxpm4 amd64 1:3.5.12-1 [34.0 kB]\n",
            "Get:8 http://archive.ubuntu.com/ubuntu artful/main amd64 libgd3 amd64 2.2.5-3 [119 kB]\n",
            "Get:9 http://archive.ubuntu.com/ubuntu artful/main amd64 libpixman-1-0 amd64 0.34.0-1 [230 kB]\n",
            "Get:10 http://archive.ubuntu.com/ubuntu artful/main amd64 libxcb-render0 amd64 1.12-1ubuntu1 [14.8 kB]\n",
            "Get:11 http://archive.ubuntu.com/ubuntu artful/main amd64 libxcb-shm0 amd64 1.12-1ubuntu1 [5,482 B]\n",
            "Get:12 http://archive.ubuntu.com/ubuntu artful/main amd64 libcairo2 amd64 1.14.10-1ubuntu1 [558 kB]\n",
            "Get:13 http://archive.ubuntu.com/ubuntu artful/main amd64 libltdl7 amd64 2.4.6-2 [38.8 kB]\n",
            "Get:14 http://archive.ubuntu.com/ubuntu artful/main amd64 libthai-data all 0.1.26-3 [132 kB]\n",
            "Get:15 http://archive.ubuntu.com/ubuntu artful/main amd64 libdatrie1 amd64 0.2.10-5 [17.6 kB]\n",
            "Get:16 http://archive.ubuntu.com/ubuntu artful/main amd64 libthai0 amd64 0.1.26-3 [17.7 kB]\n",
            "Get:17 http://archive.ubuntu.com/ubuntu artful/main amd64 libpango-1.0-0 amd64 1.40.12-1 [152 kB]\n",
            "Get:18 http://archive.ubuntu.com/ubuntu artful/main amd64 libgraphite2-3 amd64 1.3.10-2 [78.3 kB]\n",
            "Get:19 http://archive.ubuntu.com/ubuntu artful/main amd64 libharfbuzz0b amd64 1.4.2-1 [211 kB]\n",
            "Get:20 http://archive.ubuntu.com/ubuntu artful/main amd64 libpangoft2-1.0-0 amd64 1.40.12-1 [33.2 kB]\n",
            "Get:21 http://archive.ubuntu.com/ubuntu artful/main amd64 libpangocairo-1.0-0 amd64 1.40.12-1 [20.8 kB]\n",
            "Get:22 http://archive.ubuntu.com/ubuntu artful/main amd64 libpathplan4 amd64 2.38.0-16ubuntu2 [22.6 kB]\n",
            "Get:23 http://archive.ubuntu.com/ubuntu artful/main amd64 libgvc6 amd64 2.38.0-16ubuntu2 [587 kB]\n",
            "Get:24 http://archive.ubuntu.com/ubuntu artful/main amd64 libgvpr2 amd64 2.38.0-16ubuntu2 [167 kB]\n",
            "Get:25 http://archive.ubuntu.com/ubuntu artful/main amd64 libxt6 amd64 1:1.1.5-1 [160 kB]\n",
            "Get:26 http://archive.ubuntu.com/ubuntu artful/main amd64 libxmu6 amd64 2:1.1.2-2 [46.0 kB]\n",
            "Get:27 http://archive.ubuntu.com/ubuntu artful/main amd64 libxaw7 amd64 2:1.0.13-1 [173 kB]\n",
            "Get:28 http://archive.ubuntu.com/ubuntu artful/main amd64 graphviz amd64 2.38.0-16ubuntu2 [710 kB]\n",
            "Fetched 4,122 kB in 0s (18.3 MB/s)\n",
            "Selecting previously unselected package fontconfig.\n",
            "(Reading database ... 18408 files and directories currently installed.)\n",
            "Preparing to unpack .../00-fontconfig_2.11.94-0ubuntu2_amd64.deb ...\n",
            "Unpacking fontconfig (2.11.94-0ubuntu2) ...\n",
            "Selecting previously unselected package libjbig0:amd64.\n",
            "Preparing to unpack .../01-libjbig0_2.1-3.1_amd64.deb ...\n",
            "Unpacking libjbig0:amd64 (2.1-3.1) ...\n",
            "Selecting previously unselected package libcdt5.\n",
            "Preparing to unpack .../02-libcdt5_2.38.0-16ubuntu2_amd64.deb ...\n",
            "Unpacking libcdt5 (2.38.0-16ubuntu2) ...\n",
            "Selecting previously unselected package libcgraph6.\n",
            "Preparing to unpack .../03-libcgraph6_2.38.0-16ubuntu2_amd64.deb ...\n",
            "Unpacking libcgraph6 (2.38.0-16ubuntu2) ...\n",
            "Selecting previously unselected package libtiff5:amd64.\n",
            "Preparing to unpack .../04-libtiff5_4.0.8-5ubuntu0.1_amd64.deb ...\n",
            "Unpacking libtiff5:amd64 (4.0.8-5ubuntu0.1) ...\n",
            "Selecting previously unselected package libwebp6:amd64.\n",
            "Preparing to unpack .../05-libwebp6_0.6.0-3_amd64.deb ...\n",
            "Unpacking libwebp6:amd64 (0.6.0-3) ...\n",
            "Selecting previously unselected package libxpm4:amd64.\n",
            "Preparing to unpack .../06-libxpm4_1%3a3.5.12-1_amd64.deb ...\n",
            "Unpacking libxpm4:amd64 (1:3.5.12-1) ...\n",
            "Selecting previously unselected package libgd3:amd64.\n",
            "Preparing to unpack .../07-libgd3_2.2.5-3_amd64.deb ...\n",
            "Unpacking libgd3:amd64 (2.2.5-3) ...\n",
            "Selecting previously unselected package libpixman-1-0:amd64.\n",
            "Preparing to unpack .../08-libpixman-1-0_0.34.0-1_amd64.deb ...\n",
            "Unpacking libpixman-1-0:amd64 (0.34.0-1) ...\n",
            "Selecting previously unselected package libxcb-render0:amd64.\n",
            "Preparing to unpack .../09-libxcb-render0_1.12-1ubuntu1_amd64.deb ...\n",
            "Unpacking libxcb-render0:amd64 (1.12-1ubuntu1) ...\n",
            "Selecting previously unselected package libxcb-shm0:amd64.\n",
            "Preparing to unpack .../10-libxcb-shm0_1.12-1ubuntu1_amd64.deb ...\n",
            "Unpacking libxcb-shm0:amd64 (1.12-1ubuntu1) ...\n",
            "Selecting previously unselected package libcairo2:amd64.\n",
            "Preparing to unpack .../11-libcairo2_1.14.10-1ubuntu1_amd64.deb ...\n",
            "Unpacking libcairo2:amd64 (1.14.10-1ubuntu1) ...\n",
            "Selecting previously unselected package libltdl7:amd64.\n",
            "Preparing to unpack .../12-libltdl7_2.4.6-2_amd64.deb ...\n",
            "Unpacking libltdl7:amd64 (2.4.6-2) ...\n",
            "Selecting previously unselected package libthai-data.\n",
            "Preparing to unpack .../13-libthai-data_0.1.26-3_all.deb ...\n",
            "Unpacking libthai-data (0.1.26-3) ...\n",
            "Selecting previously unselected package libdatrie1:amd64.\n",
            "Preparing to unpack .../14-libdatrie1_0.2.10-5_amd64.deb ...\n",
            "Unpacking libdatrie1:amd64 (0.2.10-5) ...\n",
            "Selecting previously unselected package libthai0:amd64.\n",
            "Preparing to unpack .../15-libthai0_0.1.26-3_amd64.deb ...\n",
            "Unpacking libthai0:amd64 (0.1.26-3) ...\n",
            "Selecting previously unselected package libpango-1.0-0:amd64.\n",
            "Preparing to unpack .../16-libpango-1.0-0_1.40.12-1_amd64.deb ...\n",
            "Unpacking libpango-1.0-0:amd64 (1.40.12-1) ...\n",
            "Selecting previously unselected package libgraphite2-3:amd64.\n",
            "Preparing to unpack .../17-libgraphite2-3_1.3.10-2_amd64.deb ...\n",
            "Unpacking libgraphite2-3:amd64 (1.3.10-2) ...\n",
            "Selecting previously unselected package libharfbuzz0b:amd64.\n",
            "Preparing to unpack .../18-libharfbuzz0b_1.4.2-1_amd64.deb ...\n",
            "Unpacking libharfbuzz0b:amd64 (1.4.2-1) ...\n",
            "Selecting previously unselected package libpangoft2-1.0-0:amd64.\n",
            "Preparing to unpack .../19-libpangoft2-1.0-0_1.40.12-1_amd64.deb ...\n",
            "Unpacking libpangoft2-1.0-0:amd64 (1.40.12-1) ...\n",
            "Selecting previously unselected package libpangocairo-1.0-0:amd64.\n",
            "Preparing to unpack .../20-libpangocairo-1.0-0_1.40.12-1_amd64.deb ...\n",
            "Unpacking libpangocairo-1.0-0:amd64 (1.40.12-1) ...\n",
            "Selecting previously unselected package libpathplan4.\n",
            "Preparing to unpack .../21-libpathplan4_2.38.0-16ubuntu2_amd64.deb ...\n",
            "Unpacking libpathplan4 (2.38.0-16ubuntu2) ...\n",
            "Selecting previously unselected package libgvc6.\n",
            "Preparing to unpack .../22-libgvc6_2.38.0-16ubuntu2_amd64.deb ...\n",
            "Unpacking libgvc6 (2.38.0-16ubuntu2) ...\n",
            "Selecting previously unselected package libgvpr2.\n",
            "Preparing to unpack .../23-libgvpr2_2.38.0-16ubuntu2_amd64.deb ...\n",
            "Unpacking libgvpr2 (2.38.0-16ubuntu2) ...\n",
            "Selecting previously unselected package libxt6:amd64.\n",
            "Preparing to unpack .../24-libxt6_1%3a1.1.5-1_amd64.deb ...\n",
            "Unpacking libxt6:amd64 (1:1.1.5-1) ...\n",
            "Selecting previously unselected package libxmu6:amd64.\n",
            "Preparing to unpack .../25-libxmu6_2%3a1.1.2-2_amd64.deb ...\n",
            "Unpacking libxmu6:amd64 (2:1.1.2-2) ...\n",
            "Selecting previously unselected package libxaw7:amd64.\n",
            "Preparing to unpack .../26-libxaw7_2%3a1.0.13-1_amd64.deb ...\n",
            "Unpacking libxaw7:amd64 (2:1.0.13-1) ...\n",
            "Selecting previously unselected package graphviz.\n",
            "Preparing to unpack .../27-graphviz_2.38.0-16ubuntu2_amd64.deb ...\n",
            "Unpacking graphviz (2.38.0-16ubuntu2) ...\n",
            "Setting up libpathplan4 (2.38.0-16ubuntu2) ...\n",
            "Setting up libxcb-render0:amd64 (1.12-1ubuntu1) ...\n",
            "Setting up libjbig0:amd64 (2.1-3.1) ...\n",
            "Setting up libdatrie1:amd64 (0.2.10-5) ...\n",
            "Setting up libtiff5:amd64 (4.0.8-5ubuntu0.1) ...\n",
            "Setting up libgraphite2-3:amd64 (1.3.10-2) ...\n",
            "Setting up libpixman-1-0:amd64 (0.34.0-1) ...\n",
            "Processing triggers for libc-bin (2.26-0ubuntu2.1) ...\n",
            "Setting up libltdl7:amd64 (2.4.6-2) ...\n",
            "Setting up libxcb-shm0:amd64 (1.12-1ubuntu1) ...\n",
            "Setting up libxpm4:amd64 (1:3.5.12-1) ...\n",
            "Setting up libxt6:amd64 (1:1.1.5-1) ...\n",
            "Setting up libthai-data (0.1.26-3) ...\n",
            "Setting up libcdt5 (2.38.0-16ubuntu2) ...\n",
            "Setting up fontconfig (2.11.94-0ubuntu2) ...\n",
            "Regenerating fonts cache... done.\n",
            "Setting up libcgraph6 (2.38.0-16ubuntu2) ...\n",
            "Setting up libwebp6:amd64 (0.6.0-3) ...\n",
            "Setting up libcairo2:amd64 (1.14.10-1ubuntu1) ...\n",
            "Setting up libgvpr2 (2.38.0-16ubuntu2) ...\n",
            "Setting up libgd3:amd64 (2.2.5-3) ...\n",
            "Setting up libharfbuzz0b:amd64 (1.4.2-1) ...\n",
            "Setting up libthai0:amd64 (0.1.26-3) ...\n",
            "Setting up libxmu6:amd64 (2:1.1.2-2) ...\n",
            "Setting up libpango-1.0-0:amd64 (1.40.12-1) ...\n",
            "Setting up libxaw7:amd64 (2:1.0.13-1) ...\n",
            "Setting up libpangoft2-1.0-0:amd64 (1.40.12-1) ...\n",
            "Setting up libpangocairo-1.0-0:amd64 (1.40.12-1) ...\n",
            "Setting up libgvc6 (2.38.0-16ubuntu2) ...\n",
            "Setting up graphviz (2.38.0-16ubuntu2) ...\n",
            "Processing triggers for libc-bin (2.26-0ubuntu2.1) ...\n",
            "Requirement already satisfied: graphviz in /usr/local/lib/python3.6/dist-packages (0.8.4)\n"
          ],
          "name": "stdout"
        },
        {
          "output_type": "stream",
          "text": [
            "Using TensorFlow backend.\n"
          ],
          "name": "stderr"
        }
      ]
    },
    {
      "cell_type": "code",
      "metadata": {
        "id": "6b8MYOq9BduD",
        "colab_type": "code",
        "outputId": "bca5818c-42a6-4137-8cdb-b23b20ee646a",
        "colab": {
          "base_uri": "https://localhost:8080/",
          "height": 1532
        }
      },
      "source": [
        "D = Sequential()\n",
        "D.add(Conv2D(256, (5, 5),\n",
        "         padding='same',\n",
        "         input_shape=(1, 28, 28),\n",
        "         kernel_initializer=initializers.RandomNormal(stddev=0.02)))\n",
        "D.add(LeakyReLU(0.2))\n",
        "D.add(MaxPooling2D(pool_size=(2, 2), strides=2))\n",
        "D.add(Dropout(0.3))\n",
        "D.add(Conv2D(512, (5, 5), padding='same'))\n",
        "D.add(LeakyReLU(0.2))\n",
        "D.add(MaxPooling2D(pool_size=(2, 2), strides=2))\n",
        "D.add(Dropout(0.3))\n",
        "D.add(Flatten())\n",
        "D.add(Dense(256))\n",
        "D.add(LeakyReLU(0.2))\n",
        "D.add(Dropout(0.3))\n",
        "D.add(Dense(1, activation='sigmoid'))\n",
        "\n",
        "adam = Adam(lr=0.0002, beta_1=0.5)\n",
        "D.compile(loss='binary_crossentropy', optimizer=adam, metrics=['accuracy'])\n",
        "\n",
        "%matplotlib inline\n",
        "\n",
        "SVG(model_to_dot(D, show_shapes=True).create(prog='dot', format='svg'))"
      ],
      "execution_count": 0,
      "outputs": [
        {
          "output_type": "execute_result",
          "data": {
            "text/plain": [
              "<IPython.core.display.SVG object>"
            ],
            "image/svg+xml": "<svg height=\"1134pt\" viewBox=\"0.00 0.00 485.00 1134.00\" width=\"485pt\" xmlns=\"http://www.w3.org/2000/svg\" xmlns:xlink=\"http://www.w3.org/1999/xlink\">\n<g class=\"graph\" id=\"graph0\" transform=\"scale(1 1) rotate(0) translate(4 1130)\">\n<title>G</title>\n<polygon fill=\"white\" points=\"-4,4 -4,-1130 481,-1130 481,4 -4,4\" stroke=\"none\"/>\n<!-- 140711383829024 -->\n<g class=\"node\" id=\"node1\"><title>140711383829024</title>\n<polygon fill=\"none\" points=\"26.5,-1079.5 26.5,-1125.5 450.5,-1125.5 450.5,-1079.5 26.5,-1079.5\" stroke=\"black\"/>\n<text font-family=\"Times,serif\" font-size=\"14.00\" text-anchor=\"middle\" x=\"136\" y=\"-1098.8\">conv2d_1_input: InputLayer</text>\n<polyline fill=\"none\" points=\"245.5,-1079.5 245.5,-1125.5 \" stroke=\"black\"/>\n<text font-family=\"Times,serif\" font-size=\"14.00\" text-anchor=\"middle\" x=\"279.5\" y=\"-1110.3\">input:</text>\n<polyline fill=\"none\" points=\"245.5,-1102.5 313.5,-1102.5 \" stroke=\"black\"/>\n<text font-family=\"Times,serif\" font-size=\"14.00\" text-anchor=\"middle\" x=\"279.5\" y=\"-1087.3\">output:</text>\n<polyline fill=\"none\" points=\"313.5,-1079.5 313.5,-1125.5 \" stroke=\"black\"/>\n<text font-family=\"Times,serif\" font-size=\"14.00\" text-anchor=\"middle\" x=\"382\" y=\"-1110.3\">(None, 1, 28, 28)</text>\n<polyline fill=\"none\" points=\"313.5,-1102.5 450.5,-1102.5 \" stroke=\"black\"/>\n<text font-family=\"Times,serif\" font-size=\"14.00\" text-anchor=\"middle\" x=\"382\" y=\"-1087.3\">(None, 1, 28, 28)</text>\n</g>\n<!-- 140711383828744 -->\n<g class=\"node\" id=\"node2\"><title>140711383828744</title>\n<polygon fill=\"none\" points=\"51.5,-996.5 51.5,-1042.5 425.5,-1042.5 425.5,-996.5 51.5,-996.5\" stroke=\"black\"/>\n<text font-family=\"Times,serif\" font-size=\"14.00\" text-anchor=\"middle\" x=\"127\" y=\"-1015.8\">conv2d_1: Conv2D</text>\n<polyline fill=\"none\" points=\"202.5,-996.5 202.5,-1042.5 \" stroke=\"black\"/>\n<text font-family=\"Times,serif\" font-size=\"14.00\" text-anchor=\"middle\" x=\"236.5\" y=\"-1027.3\">input:</text>\n<polyline fill=\"none\" points=\"202.5,-1019.5 270.5,-1019.5 \" stroke=\"black\"/>\n<text font-family=\"Times,serif\" font-size=\"14.00\" text-anchor=\"middle\" x=\"236.5\" y=\"-1004.3\">output:</text>\n<polyline fill=\"none\" points=\"270.5,-996.5 270.5,-1042.5 \" stroke=\"black\"/>\n<text font-family=\"Times,serif\" font-size=\"14.00\" text-anchor=\"middle\" x=\"348\" y=\"-1027.3\">(None, 1, 28, 28)</text>\n<polyline fill=\"none\" points=\"270.5,-1019.5 425.5,-1019.5 \" stroke=\"black\"/>\n<text font-family=\"Times,serif\" font-size=\"14.00\" text-anchor=\"middle\" x=\"348\" y=\"-1004.3\">(None, 256, 28, 28)</text>\n</g>\n<!-- 140711383829024&#45;&gt;140711383828744 -->\n<g class=\"edge\" id=\"edge1\"><title>140711383829024-&gt;140711383828744</title>\n<path d=\"M238.5,-1079.37C238.5,-1071.15 238.5,-1061.66 238.5,-1052.73\" fill=\"none\" stroke=\"black\"/>\n<polygon fill=\"black\" points=\"242,-1052.61 238.5,-1042.61 235,-1052.61 242,-1052.61\" stroke=\"black\"/>\n</g>\n<!-- 140712578889208 -->\n<g class=\"node\" id=\"node3\"><title>140712578889208</title>\n<polygon fill=\"none\" points=\"23.5,-913.5 23.5,-959.5 453.5,-959.5 453.5,-913.5 23.5,-913.5\" stroke=\"black\"/>\n<text font-family=\"Times,serif\" font-size=\"14.00\" text-anchor=\"middle\" x=\"127\" y=\"-932.8\">leaky_re_lu_1: LeakyReLU</text>\n<polyline fill=\"none\" points=\"230.5,-913.5 230.5,-959.5 \" stroke=\"black\"/>\n<text font-family=\"Times,serif\" font-size=\"14.00\" text-anchor=\"middle\" x=\"264.5\" y=\"-944.3\">input:</text>\n<polyline fill=\"none\" points=\"230.5,-936.5 298.5,-936.5 \" stroke=\"black\"/>\n<text font-family=\"Times,serif\" font-size=\"14.00\" text-anchor=\"middle\" x=\"264.5\" y=\"-921.3\">output:</text>\n<polyline fill=\"none\" points=\"298.5,-913.5 298.5,-959.5 \" stroke=\"black\"/>\n<text font-family=\"Times,serif\" font-size=\"14.00\" text-anchor=\"middle\" x=\"376\" y=\"-944.3\">(None, 256, 28, 28)</text>\n<polyline fill=\"none\" points=\"298.5,-936.5 453.5,-936.5 \" stroke=\"black\"/>\n<text font-family=\"Times,serif\" font-size=\"14.00\" text-anchor=\"middle\" x=\"376\" y=\"-921.3\">(None, 256, 28, 28)</text>\n</g>\n<!-- 140711383828744&#45;&gt;140712578889208 -->\n<g class=\"edge\" id=\"edge2\"><title>140711383828744-&gt;140712578889208</title>\n<path d=\"M238.5,-996.366C238.5,-988.152 238.5,-978.658 238.5,-969.725\" fill=\"none\" stroke=\"black\"/>\n<polygon fill=\"black\" points=\"242,-969.607 238.5,-959.607 235,-969.607 242,-969.607\" stroke=\"black\"/>\n</g>\n<!-- 140711383829192 -->\n<g class=\"node\" id=\"node4\"><title>140711383829192</title>\n<polygon fill=\"none\" points=\"0,-830.5 0,-876.5 477,-876.5 477,-830.5 0,-830.5\" stroke=\"black\"/>\n<text font-family=\"Times,serif\" font-size=\"14.00\" text-anchor=\"middle\" x=\"127\" y=\"-849.8\">max_pooling2d_1: MaxPooling2D</text>\n<polyline fill=\"none\" points=\"254,-830.5 254,-876.5 \" stroke=\"black\"/>\n<text font-family=\"Times,serif\" font-size=\"14.00\" text-anchor=\"middle\" x=\"288\" y=\"-861.3\">input:</text>\n<polyline fill=\"none\" points=\"254,-853.5 322,-853.5 \" stroke=\"black\"/>\n<text font-family=\"Times,serif\" font-size=\"14.00\" text-anchor=\"middle\" x=\"288\" y=\"-838.3\">output:</text>\n<polyline fill=\"none\" points=\"322,-830.5 322,-876.5 \" stroke=\"black\"/>\n<text font-family=\"Times,serif\" font-size=\"14.00\" text-anchor=\"middle\" x=\"399.5\" y=\"-861.3\">(None, 256, 28, 28)</text>\n<polyline fill=\"none\" points=\"322,-853.5 477,-853.5 \" stroke=\"black\"/>\n<text font-family=\"Times,serif\" font-size=\"14.00\" text-anchor=\"middle\" x=\"399.5\" y=\"-838.3\">(None, 256, 14, 14)</text>\n</g>\n<!-- 140712578889208&#45;&gt;140711383829192 -->\n<g class=\"edge\" id=\"edge3\"><title>140712578889208-&gt;140711383829192</title>\n<path d=\"M238.5,-913.366C238.5,-905.152 238.5,-895.658 238.5,-886.725\" fill=\"none\" stroke=\"black\"/>\n<polygon fill=\"black\" points=\"242,-886.607 238.5,-876.607 235,-886.607 242,-886.607\" stroke=\"black\"/>\n</g>\n<!-- 140711383829472 -->\n<g class=\"node\" id=\"node5\"><title>140711383829472</title>\n<polygon fill=\"none\" points=\"48.5,-747.5 48.5,-793.5 428.5,-793.5 428.5,-747.5 48.5,-747.5\" stroke=\"black\"/>\n<text font-family=\"Times,serif\" font-size=\"14.00\" text-anchor=\"middle\" x=\"127\" y=\"-766.8\">dropout_1: Dropout</text>\n<polyline fill=\"none\" points=\"205.5,-747.5 205.5,-793.5 \" stroke=\"black\"/>\n<text font-family=\"Times,serif\" font-size=\"14.00\" text-anchor=\"middle\" x=\"239.5\" y=\"-778.3\">input:</text>\n<polyline fill=\"none\" points=\"205.5,-770.5 273.5,-770.5 \" stroke=\"black\"/>\n<text font-family=\"Times,serif\" font-size=\"14.00\" text-anchor=\"middle\" x=\"239.5\" y=\"-755.3\">output:</text>\n<polyline fill=\"none\" points=\"273.5,-747.5 273.5,-793.5 \" stroke=\"black\"/>\n<text font-family=\"Times,serif\" font-size=\"14.00\" text-anchor=\"middle\" x=\"351\" y=\"-778.3\">(None, 256, 14, 14)</text>\n<polyline fill=\"none\" points=\"273.5,-770.5 428.5,-770.5 \" stroke=\"black\"/>\n<text font-family=\"Times,serif\" font-size=\"14.00\" text-anchor=\"middle\" x=\"351\" y=\"-755.3\">(None, 256, 14, 14)</text>\n</g>\n<!-- 140711383829192&#45;&gt;140711383829472 -->\n<g class=\"edge\" id=\"edge4\"><title>140711383829192-&gt;140711383829472</title>\n<path d=\"M238.5,-830.366C238.5,-822.152 238.5,-812.658 238.5,-803.725\" fill=\"none\" stroke=\"black\"/>\n<polygon fill=\"black\" points=\"242,-803.607 238.5,-793.607 235,-803.607 242,-803.607\" stroke=\"black\"/>\n</g>\n<!-- 140711383823584 -->\n<g class=\"node\" id=\"node6\"><title>140711383823584</title>\n<polygon fill=\"none\" points=\"51.5,-664.5 51.5,-710.5 425.5,-710.5 425.5,-664.5 51.5,-664.5\" stroke=\"black\"/>\n<text font-family=\"Times,serif\" font-size=\"14.00\" text-anchor=\"middle\" x=\"127\" y=\"-683.8\">conv2d_2: Conv2D</text>\n<polyline fill=\"none\" points=\"202.5,-664.5 202.5,-710.5 \" stroke=\"black\"/>\n<text font-family=\"Times,serif\" font-size=\"14.00\" text-anchor=\"middle\" x=\"236.5\" y=\"-695.3\">input:</text>\n<polyline fill=\"none\" points=\"202.5,-687.5 270.5,-687.5 \" stroke=\"black\"/>\n<text font-family=\"Times,serif\" font-size=\"14.00\" text-anchor=\"middle\" x=\"236.5\" y=\"-672.3\">output:</text>\n<polyline fill=\"none\" points=\"270.5,-664.5 270.5,-710.5 \" stroke=\"black\"/>\n<text font-family=\"Times,serif\" font-size=\"14.00\" text-anchor=\"middle\" x=\"348\" y=\"-695.3\">(None, 256, 14, 14)</text>\n<polyline fill=\"none\" points=\"270.5,-687.5 425.5,-687.5 \" stroke=\"black\"/>\n<text font-family=\"Times,serif\" font-size=\"14.00\" text-anchor=\"middle\" x=\"348\" y=\"-672.3\">(None, 512, 14, 14)</text>\n</g>\n<!-- 140711383829472&#45;&gt;140711383823584 -->\n<g class=\"edge\" id=\"edge5\"><title>140711383829472-&gt;140711383823584</title>\n<path d=\"M238.5,-747.366C238.5,-739.152 238.5,-729.658 238.5,-720.725\" fill=\"none\" stroke=\"black\"/>\n<polygon fill=\"black\" points=\"242,-720.607 238.5,-710.607 235,-720.607 242,-720.607\" stroke=\"black\"/>\n</g>\n<!-- 140711383829360 -->\n<g class=\"node\" id=\"node7\"><title>140711383829360</title>\n<polygon fill=\"none\" points=\"23.5,-581.5 23.5,-627.5 453.5,-627.5 453.5,-581.5 23.5,-581.5\" stroke=\"black\"/>\n<text font-family=\"Times,serif\" font-size=\"14.00\" text-anchor=\"middle\" x=\"127\" y=\"-600.8\">leaky_re_lu_2: LeakyReLU</text>\n<polyline fill=\"none\" points=\"230.5,-581.5 230.5,-627.5 \" stroke=\"black\"/>\n<text font-family=\"Times,serif\" font-size=\"14.00\" text-anchor=\"middle\" x=\"264.5\" y=\"-612.3\">input:</text>\n<polyline fill=\"none\" points=\"230.5,-604.5 298.5,-604.5 \" stroke=\"black\"/>\n<text font-family=\"Times,serif\" font-size=\"14.00\" text-anchor=\"middle\" x=\"264.5\" y=\"-589.3\">output:</text>\n<polyline fill=\"none\" points=\"298.5,-581.5 298.5,-627.5 \" stroke=\"black\"/>\n<text font-family=\"Times,serif\" font-size=\"14.00\" text-anchor=\"middle\" x=\"376\" y=\"-612.3\">(None, 512, 14, 14)</text>\n<polyline fill=\"none\" points=\"298.5,-604.5 453.5,-604.5 \" stroke=\"black\"/>\n<text font-family=\"Times,serif\" font-size=\"14.00\" text-anchor=\"middle\" x=\"376\" y=\"-589.3\">(None, 512, 14, 14)</text>\n</g>\n<!-- 140711383823584&#45;&gt;140711383829360 -->\n<g class=\"edge\" id=\"edge6\"><title>140711383823584-&gt;140711383829360</title>\n<path d=\"M238.5,-664.366C238.5,-656.152 238.5,-646.658 238.5,-637.725\" fill=\"none\" stroke=\"black\"/>\n<polygon fill=\"black\" points=\"242,-637.607 238.5,-627.607 235,-637.607 242,-637.607\" stroke=\"black\"/>\n</g>\n<!-- 140711383526480 -->\n<g class=\"node\" id=\"node8\"><title>140711383526480</title>\n<polygon fill=\"none\" points=\"0,-498.5 0,-544.5 477,-544.5 477,-498.5 0,-498.5\" stroke=\"black\"/>\n<text font-family=\"Times,serif\" font-size=\"14.00\" text-anchor=\"middle\" x=\"127\" y=\"-517.8\">max_pooling2d_2: MaxPooling2D</text>\n<polyline fill=\"none\" points=\"254,-498.5 254,-544.5 \" stroke=\"black\"/>\n<text font-family=\"Times,serif\" font-size=\"14.00\" text-anchor=\"middle\" x=\"288\" y=\"-529.3\">input:</text>\n<polyline fill=\"none\" points=\"254,-521.5 322,-521.5 \" stroke=\"black\"/>\n<text font-family=\"Times,serif\" font-size=\"14.00\" text-anchor=\"middle\" x=\"288\" y=\"-506.3\">output:</text>\n<polyline fill=\"none\" points=\"322,-498.5 322,-544.5 \" stroke=\"black\"/>\n<text font-family=\"Times,serif\" font-size=\"14.00\" text-anchor=\"middle\" x=\"399.5\" y=\"-529.3\">(None, 512, 14, 14)</text>\n<polyline fill=\"none\" points=\"322,-521.5 477,-521.5 \" stroke=\"black\"/>\n<text font-family=\"Times,serif\" font-size=\"14.00\" text-anchor=\"middle\" x=\"399.5\" y=\"-506.3\">(None, 512, 7, 7)</text>\n</g>\n<!-- 140711383829360&#45;&gt;140711383526480 -->\n<g class=\"edge\" id=\"edge7\"><title>140711383829360-&gt;140711383526480</title>\n<path d=\"M238.5,-581.366C238.5,-573.152 238.5,-563.658 238.5,-554.725\" fill=\"none\" stroke=\"black\"/>\n<polygon fill=\"black\" points=\"242,-554.607 238.5,-544.607 235,-554.607 242,-554.607\" stroke=\"black\"/>\n</g>\n<!-- 140711383524800 -->\n<g class=\"node\" id=\"node9\"><title>140711383524800</title>\n<polygon fill=\"none\" points=\"57.5,-415.5 57.5,-461.5 419.5,-461.5 419.5,-415.5 57.5,-415.5\" stroke=\"black\"/>\n<text font-family=\"Times,serif\" font-size=\"14.00\" text-anchor=\"middle\" x=\"136\" y=\"-434.8\">dropout_2: Dropout</text>\n<polyline fill=\"none\" points=\"214.5,-415.5 214.5,-461.5 \" stroke=\"black\"/>\n<text font-family=\"Times,serif\" font-size=\"14.00\" text-anchor=\"middle\" x=\"248.5\" y=\"-446.3\">input:</text>\n<polyline fill=\"none\" points=\"214.5,-438.5 282.5,-438.5 \" stroke=\"black\"/>\n<text font-family=\"Times,serif\" font-size=\"14.00\" text-anchor=\"middle\" x=\"248.5\" y=\"-423.3\">output:</text>\n<polyline fill=\"none\" points=\"282.5,-415.5 282.5,-461.5 \" stroke=\"black\"/>\n<text font-family=\"Times,serif\" font-size=\"14.00\" text-anchor=\"middle\" x=\"351\" y=\"-446.3\">(None, 512, 7, 7)</text>\n<polyline fill=\"none\" points=\"282.5,-438.5 419.5,-438.5 \" stroke=\"black\"/>\n<text font-family=\"Times,serif\" font-size=\"14.00\" text-anchor=\"middle\" x=\"351\" y=\"-423.3\">(None, 512, 7, 7)</text>\n</g>\n<!-- 140711383526480&#45;&gt;140711383524800 -->\n<g class=\"edge\" id=\"edge8\"><title>140711383526480-&gt;140711383524800</title>\n<path d=\"M238.5,-498.366C238.5,-490.152 238.5,-480.658 238.5,-471.725\" fill=\"none\" stroke=\"black\"/>\n<polygon fill=\"black\" points=\"242,-471.607 238.5,-461.607 235,-471.607 242,-471.607\" stroke=\"black\"/>\n</g>\n<!-- 140710882520704 -->\n<g class=\"node\" id=\"node10\"><title>140710882520704</title>\n<polygon fill=\"none\" points=\"65.5,-332.5 65.5,-378.5 411.5,-378.5 411.5,-332.5 65.5,-332.5\" stroke=\"black\"/>\n<text font-family=\"Times,serif\" font-size=\"14.00\" text-anchor=\"middle\" x=\"136\" y=\"-351.8\">flatten_1: Flatten</text>\n<polyline fill=\"none\" points=\"206.5,-332.5 206.5,-378.5 \" stroke=\"black\"/>\n<text font-family=\"Times,serif\" font-size=\"14.00\" text-anchor=\"middle\" x=\"240.5\" y=\"-363.3\">input:</text>\n<polyline fill=\"none\" points=\"206.5,-355.5 274.5,-355.5 \" stroke=\"black\"/>\n<text font-family=\"Times,serif\" font-size=\"14.00\" text-anchor=\"middle\" x=\"240.5\" y=\"-340.3\">output:</text>\n<polyline fill=\"none\" points=\"274.5,-332.5 274.5,-378.5 \" stroke=\"black\"/>\n<text font-family=\"Times,serif\" font-size=\"14.00\" text-anchor=\"middle\" x=\"343\" y=\"-363.3\">(None, 512, 7, 7)</text>\n<polyline fill=\"none\" points=\"274.5,-355.5 411.5,-355.5 \" stroke=\"black\"/>\n<text font-family=\"Times,serif\" font-size=\"14.00\" text-anchor=\"middle\" x=\"343\" y=\"-340.3\">(None, 25088)</text>\n</g>\n<!-- 140711383524800&#45;&gt;140710882520704 -->\n<g class=\"edge\" id=\"edge9\"><title>140711383524800-&gt;140710882520704</title>\n<path d=\"M238.5,-415.366C238.5,-407.152 238.5,-397.658 238.5,-388.725\" fill=\"none\" stroke=\"black\"/>\n<polygon fill=\"black\" points=\"242,-388.607 238.5,-378.607 235,-388.607 242,-388.607\" stroke=\"black\"/>\n</g>\n<!-- 140711383525976 -->\n<g class=\"node\" id=\"node11\"><title>140711383525976</title>\n<polygon fill=\"none\" points=\"81,-249.5 81,-295.5 396,-295.5 396,-249.5 81,-249.5\" stroke=\"black\"/>\n<text font-family=\"Times,serif\" font-size=\"14.00\" text-anchor=\"middle\" x=\"145\" y=\"-268.8\">dense_1: Dense</text>\n<polyline fill=\"none\" points=\"209,-249.5 209,-295.5 \" stroke=\"black\"/>\n<text font-family=\"Times,serif\" font-size=\"14.00\" text-anchor=\"middle\" x=\"243\" y=\"-280.3\">input:</text>\n<polyline fill=\"none\" points=\"209,-272.5 277,-272.5 \" stroke=\"black\"/>\n<text font-family=\"Times,serif\" font-size=\"14.00\" text-anchor=\"middle\" x=\"243\" y=\"-257.3\">output:</text>\n<polyline fill=\"none\" points=\"277,-249.5 277,-295.5 \" stroke=\"black\"/>\n<text font-family=\"Times,serif\" font-size=\"14.00\" text-anchor=\"middle\" x=\"336.5\" y=\"-280.3\">(None, 25088)</text>\n<polyline fill=\"none\" points=\"277,-272.5 396,-272.5 \" stroke=\"black\"/>\n<text font-family=\"Times,serif\" font-size=\"14.00\" text-anchor=\"middle\" x=\"336.5\" y=\"-257.3\">(None, 256)</text>\n</g>\n<!-- 140710882520704&#45;&gt;140711383525976 -->\n<g class=\"edge\" id=\"edge10\"><title>140710882520704-&gt;140711383525976</title>\n<path d=\"M238.5,-332.366C238.5,-324.152 238.5,-314.658 238.5,-305.725\" fill=\"none\" stroke=\"black\"/>\n<polygon fill=\"black\" points=\"242,-305.607 238.5,-295.607 235,-305.607 242,-305.607\" stroke=\"black\"/>\n</g>\n<!-- 140710882521040 -->\n<g class=\"node\" id=\"node12\"><title>140710882521040</title>\n<polygon fill=\"none\" points=\"50.5,-166.5 50.5,-212.5 426.5,-212.5 426.5,-166.5 50.5,-166.5\" stroke=\"black\"/>\n<text font-family=\"Times,serif\" font-size=\"14.00\" text-anchor=\"middle\" x=\"154\" y=\"-185.8\">leaky_re_lu_3: LeakyReLU</text>\n<polyline fill=\"none\" points=\"257.5,-166.5 257.5,-212.5 \" stroke=\"black\"/>\n<text font-family=\"Times,serif\" font-size=\"14.00\" text-anchor=\"middle\" x=\"291.5\" y=\"-197.3\">input:</text>\n<polyline fill=\"none\" points=\"257.5,-189.5 325.5,-189.5 \" stroke=\"black\"/>\n<text font-family=\"Times,serif\" font-size=\"14.00\" text-anchor=\"middle\" x=\"291.5\" y=\"-174.3\">output:</text>\n<polyline fill=\"none\" points=\"325.5,-166.5 325.5,-212.5 \" stroke=\"black\"/>\n<text font-family=\"Times,serif\" font-size=\"14.00\" text-anchor=\"middle\" x=\"376\" y=\"-197.3\">(None, 256)</text>\n<polyline fill=\"none\" points=\"325.5,-189.5 426.5,-189.5 \" stroke=\"black\"/>\n<text font-family=\"Times,serif\" font-size=\"14.00\" text-anchor=\"middle\" x=\"376\" y=\"-174.3\">(None, 256)</text>\n</g>\n<!-- 140711383525976&#45;&gt;140710882521040 -->\n<g class=\"edge\" id=\"edge11\"><title>140711383525976-&gt;140710882521040</title>\n<path d=\"M238.5,-249.366C238.5,-241.152 238.5,-231.658 238.5,-222.725\" fill=\"none\" stroke=\"black\"/>\n<polygon fill=\"black\" points=\"242,-222.607 238.5,-212.607 235,-222.607 242,-222.607\" stroke=\"black\"/>\n</g>\n<!-- 140710882225288 -->\n<g class=\"node\" id=\"node13\"><title>140710882225288</title>\n<polygon fill=\"none\" points=\"75.5,-83.5 75.5,-129.5 401.5,-129.5 401.5,-83.5 75.5,-83.5\" stroke=\"black\"/>\n<text font-family=\"Times,serif\" font-size=\"14.00\" text-anchor=\"middle\" x=\"154\" y=\"-102.8\">dropout_3: Dropout</text>\n<polyline fill=\"none\" points=\"232.5,-83.5 232.5,-129.5 \" stroke=\"black\"/>\n<text font-family=\"Times,serif\" font-size=\"14.00\" text-anchor=\"middle\" x=\"266.5\" y=\"-114.3\">input:</text>\n<polyline fill=\"none\" points=\"232.5,-106.5 300.5,-106.5 \" stroke=\"black\"/>\n<text font-family=\"Times,serif\" font-size=\"14.00\" text-anchor=\"middle\" x=\"266.5\" y=\"-91.3\">output:</text>\n<polyline fill=\"none\" points=\"300.5,-83.5 300.5,-129.5 \" stroke=\"black\"/>\n<text font-family=\"Times,serif\" font-size=\"14.00\" text-anchor=\"middle\" x=\"351\" y=\"-114.3\">(None, 256)</text>\n<polyline fill=\"none\" points=\"300.5,-106.5 401.5,-106.5 \" stroke=\"black\"/>\n<text font-family=\"Times,serif\" font-size=\"14.00\" text-anchor=\"middle\" x=\"351\" y=\"-91.3\">(None, 256)</text>\n</g>\n<!-- 140710882521040&#45;&gt;140710882225288 -->\n<g class=\"edge\" id=\"edge12\"><title>140710882521040-&gt;140710882225288</title>\n<path d=\"M238.5,-166.366C238.5,-158.152 238.5,-148.658 238.5,-139.725\" fill=\"none\" stroke=\"black\"/>\n<polygon fill=\"black\" points=\"242,-139.607 238.5,-129.607 235,-139.607 242,-139.607\" stroke=\"black\"/>\n</g>\n<!-- 140710882520760 -->\n<g class=\"node\" id=\"node14\"><title>140710882520760</title>\n<polygon fill=\"none\" points=\"90,-0.5 90,-46.5 387,-46.5 387,-0.5 90,-0.5\" stroke=\"black\"/>\n<text font-family=\"Times,serif\" font-size=\"14.00\" text-anchor=\"middle\" x=\"154\" y=\"-19.8\">dense_2: Dense</text>\n<polyline fill=\"none\" points=\"218,-0.5 218,-46.5 \" stroke=\"black\"/>\n<text font-family=\"Times,serif\" font-size=\"14.00\" text-anchor=\"middle\" x=\"252\" y=\"-31.3\">input:</text>\n<polyline fill=\"none\" points=\"218,-23.5 286,-23.5 \" stroke=\"black\"/>\n<text font-family=\"Times,serif\" font-size=\"14.00\" text-anchor=\"middle\" x=\"252\" y=\"-8.3\">output:</text>\n<polyline fill=\"none\" points=\"286,-0.5 286,-46.5 \" stroke=\"black\"/>\n<text font-family=\"Times,serif\" font-size=\"14.00\" text-anchor=\"middle\" x=\"336.5\" y=\"-31.3\">(None, 256)</text>\n<polyline fill=\"none\" points=\"286,-23.5 387,-23.5 \" stroke=\"black\"/>\n<text font-family=\"Times,serif\" font-size=\"14.00\" text-anchor=\"middle\" x=\"336.5\" y=\"-8.3\">(None, 1)</text>\n</g>\n<!-- 140710882225288&#45;&gt;140710882520760 -->\n<g class=\"edge\" id=\"edge13\"><title>140710882225288-&gt;140710882520760</title>\n<path d=\"M238.5,-83.3664C238.5,-75.1516 238.5,-65.6579 238.5,-56.7252\" fill=\"none\" stroke=\"black\"/>\n<polygon fill=\"black\" points=\"242,-56.6068 238.5,-46.6068 235,-56.6069 242,-56.6068\" stroke=\"black\"/>\n</g>\n</g>\n</svg>"
          },
          "metadata": {
            "tags": []
          },
          "execution_count": 3
        }
      ]
    },
    {
      "cell_type": "code",
      "metadata": {
        "id": "VHFXDUjABono",
        "colab_type": "code",
        "outputId": "6b9573c7-f906-4264-85ec-cd74c825d446",
        "colab": {
          "base_uri": "https://localhost:8080/",
          "height": 1200
        }
      },
      "source": [
        "G = Sequential()\n",
        "G.add(Dense(512, input_dim=100))\n",
        "G.add(LeakyReLU(0.2))\n",
        "G.add(Dense(128 * 7 * 7))\n",
        "G.add(LeakyReLU(0.2))\n",
        "G.add(BatchNormalization())\n",
        "G.add(Reshape((128, 7, 7), input_shape=(128 * 7 * 7,)))\n",
        "G.add(UpSampling2D(size=(2, 2)))\n",
        "G.add(Conv2D(64, (5, 5), padding='same', activation='tanh'))\n",
        "G.add(UpSampling2D(size=(2, 2)))\n",
        "G.add(Conv2D(1, (5, 5), padding='same', activation='tanh'))\n",
        "\n",
        "adam = Adam(lr=0.0002, beta_1=0.5)\n",
        "G.compile(loss='binary_crossentropy', optimizer=adam, metrics=['accuracy'])\n",
        "\n",
        "%matplotlib inline\n",
        "\n",
        "SVG(model_to_dot(G, show_shapes=True).create(prog='dot', format='svg'))"
      ],
      "execution_count": 0,
      "outputs": [
        {
          "output_type": "execute_result",
          "data": {
            "text/plain": [
              "<IPython.core.display.SVG object>"
            ],
            "image/svg+xml": "<svg height=\"885pt\" viewBox=\"0.00 0.00 518.00 885.00\" width=\"518pt\" xmlns=\"http://www.w3.org/2000/svg\" xmlns:xlink=\"http://www.w3.org/1999/xlink\">\n<g class=\"graph\" id=\"graph0\" transform=\"scale(1 1) rotate(0) translate(4 881)\">\n<title>G</title>\n<polygon fill=\"white\" points=\"-4,4 -4,-881 514,-881 514,4 -4,4\" stroke=\"none\"/>\n<!-- 140712578888312 -->\n<g class=\"node\" id=\"node1\"><title>140712578888312</title>\n<polygon fill=\"none\" points=\"66,-830.5 66,-876.5 444,-876.5 444,-830.5 66,-830.5\" stroke=\"black\"/>\n<text font-family=\"Times,serif\" font-size=\"14.00\" text-anchor=\"middle\" x=\"170.5\" y=\"-849.8\">dense_3_input: InputLayer</text>\n<polyline fill=\"none\" points=\"275,-830.5 275,-876.5 \" stroke=\"black\"/>\n<text font-family=\"Times,serif\" font-size=\"14.00\" text-anchor=\"middle\" x=\"309\" y=\"-861.3\">input:</text>\n<polyline fill=\"none\" points=\"275,-853.5 343,-853.5 \" stroke=\"black\"/>\n<text font-family=\"Times,serif\" font-size=\"14.00\" text-anchor=\"middle\" x=\"309\" y=\"-838.3\">output:</text>\n<polyline fill=\"none\" points=\"343,-830.5 343,-876.5 \" stroke=\"black\"/>\n<text font-family=\"Times,serif\" font-size=\"14.00\" text-anchor=\"middle\" x=\"393.5\" y=\"-861.3\">(None, 100)</text>\n<polyline fill=\"none\" points=\"343,-853.5 444,-853.5 \" stroke=\"black\"/>\n<text font-family=\"Times,serif\" font-size=\"14.00\" text-anchor=\"middle\" x=\"393.5\" y=\"-838.3\">(None, 100)</text>\n</g>\n<!-- 140711383684320 -->\n<g class=\"node\" id=\"node2\"><title>140711383684320</title>\n<polygon fill=\"none\" points=\"106.5,-747.5 106.5,-793.5 403.5,-793.5 403.5,-747.5 106.5,-747.5\" stroke=\"black\"/>\n<text font-family=\"Times,serif\" font-size=\"14.00\" text-anchor=\"middle\" x=\"170.5\" y=\"-766.8\">dense_3: Dense</text>\n<polyline fill=\"none\" points=\"234.5,-747.5 234.5,-793.5 \" stroke=\"black\"/>\n<text font-family=\"Times,serif\" font-size=\"14.00\" text-anchor=\"middle\" x=\"268.5\" y=\"-778.3\">input:</text>\n<polyline fill=\"none\" points=\"234.5,-770.5 302.5,-770.5 \" stroke=\"black\"/>\n<text font-family=\"Times,serif\" font-size=\"14.00\" text-anchor=\"middle\" x=\"268.5\" y=\"-755.3\">output:</text>\n<polyline fill=\"none\" points=\"302.5,-747.5 302.5,-793.5 \" stroke=\"black\"/>\n<text font-family=\"Times,serif\" font-size=\"14.00\" text-anchor=\"middle\" x=\"353\" y=\"-778.3\">(None, 100)</text>\n<polyline fill=\"none\" points=\"302.5,-770.5 403.5,-770.5 \" stroke=\"black\"/>\n<text font-family=\"Times,serif\" font-size=\"14.00\" text-anchor=\"middle\" x=\"353\" y=\"-755.3\">(None, 512)</text>\n</g>\n<!-- 140712578888312&#45;&gt;140711383684320 -->\n<g class=\"edge\" id=\"edge1\"><title>140712578888312-&gt;140711383684320</title>\n<path d=\"M255,-830.366C255,-822.152 255,-812.658 255,-803.725\" fill=\"none\" stroke=\"black\"/>\n<polygon fill=\"black\" points=\"258.5,-803.607 255,-793.607 251.5,-803.607 258.5,-803.607\" stroke=\"black\"/>\n</g>\n<!-- 140711383684376 -->\n<g class=\"node\" id=\"node3\"><title>140711383684376</title>\n<polygon fill=\"none\" points=\"67,-664.5 67,-710.5 443,-710.5 443,-664.5 67,-664.5\" stroke=\"black\"/>\n<text font-family=\"Times,serif\" font-size=\"14.00\" text-anchor=\"middle\" x=\"170.5\" y=\"-683.8\">leaky_re_lu_4: LeakyReLU</text>\n<polyline fill=\"none\" points=\"274,-664.5 274,-710.5 \" stroke=\"black\"/>\n<text font-family=\"Times,serif\" font-size=\"14.00\" text-anchor=\"middle\" x=\"308\" y=\"-695.3\">input:</text>\n<polyline fill=\"none\" points=\"274,-687.5 342,-687.5 \" stroke=\"black\"/>\n<text font-family=\"Times,serif\" font-size=\"14.00\" text-anchor=\"middle\" x=\"308\" y=\"-672.3\">output:</text>\n<polyline fill=\"none\" points=\"342,-664.5 342,-710.5 \" stroke=\"black\"/>\n<text font-family=\"Times,serif\" font-size=\"14.00\" text-anchor=\"middle\" x=\"392.5\" y=\"-695.3\">(None, 512)</text>\n<polyline fill=\"none\" points=\"342,-687.5 443,-687.5 \" stroke=\"black\"/>\n<text font-family=\"Times,serif\" font-size=\"14.00\" text-anchor=\"middle\" x=\"392.5\" y=\"-672.3\">(None, 512)</text>\n</g>\n<!-- 140711383684320&#45;&gt;140711383684376 -->\n<g class=\"edge\" id=\"edge2\"><title>140711383684320-&gt;140711383684376</title>\n<path d=\"M255,-747.366C255,-739.152 255,-729.658 255,-720.725\" fill=\"none\" stroke=\"black\"/>\n<polygon fill=\"black\" points=\"258.5,-720.607 255,-710.607 251.5,-720.607 258.5,-720.607\" stroke=\"black\"/>\n</g>\n<!-- 140712578889432 -->\n<g class=\"node\" id=\"node4\"><title>140712578889432</title>\n<polygon fill=\"none\" points=\"102,-581.5 102,-627.5 408,-627.5 408,-581.5 102,-581.5\" stroke=\"black\"/>\n<text font-family=\"Times,serif\" font-size=\"14.00\" text-anchor=\"middle\" x=\"166\" y=\"-600.8\">dense_4: Dense</text>\n<polyline fill=\"none\" points=\"230,-581.5 230,-627.5 \" stroke=\"black\"/>\n<text font-family=\"Times,serif\" font-size=\"14.00\" text-anchor=\"middle\" x=\"264\" y=\"-612.3\">input:</text>\n<polyline fill=\"none\" points=\"230,-604.5 298,-604.5 \" stroke=\"black\"/>\n<text font-family=\"Times,serif\" font-size=\"14.00\" text-anchor=\"middle\" x=\"264\" y=\"-589.3\">output:</text>\n<polyline fill=\"none\" points=\"298,-581.5 298,-627.5 \" stroke=\"black\"/>\n<text font-family=\"Times,serif\" font-size=\"14.00\" text-anchor=\"middle\" x=\"353\" y=\"-612.3\">(None, 512)</text>\n<polyline fill=\"none\" points=\"298,-604.5 408,-604.5 \" stroke=\"black\"/>\n<text font-family=\"Times,serif\" font-size=\"14.00\" text-anchor=\"middle\" x=\"353\" y=\"-589.3\">(None, 6272)</text>\n</g>\n<!-- 140711383684376&#45;&gt;140712578889432 -->\n<g class=\"edge\" id=\"edge3\"><title>140711383684376-&gt;140712578889432</title>\n<path d=\"M255,-664.366C255,-656.152 255,-646.658 255,-637.725\" fill=\"none\" stroke=\"black\"/>\n<polygon fill=\"black\" points=\"258.5,-637.607 255,-627.607 251.5,-637.607 258.5,-637.607\" stroke=\"black\"/>\n</g>\n<!-- 140712578889320 -->\n<g class=\"node\" id=\"node5\"><title>140712578889320</title>\n<polygon fill=\"none\" points=\"62.5,-498.5 62.5,-544.5 447.5,-544.5 447.5,-498.5 62.5,-498.5\" stroke=\"black\"/>\n<text font-family=\"Times,serif\" font-size=\"14.00\" text-anchor=\"middle\" x=\"166\" y=\"-517.8\">leaky_re_lu_5: LeakyReLU</text>\n<polyline fill=\"none\" points=\"269.5,-498.5 269.5,-544.5 \" stroke=\"black\"/>\n<text font-family=\"Times,serif\" font-size=\"14.00\" text-anchor=\"middle\" x=\"303.5\" y=\"-529.3\">input:</text>\n<polyline fill=\"none\" points=\"269.5,-521.5 337.5,-521.5 \" stroke=\"black\"/>\n<text font-family=\"Times,serif\" font-size=\"14.00\" text-anchor=\"middle\" x=\"303.5\" y=\"-506.3\">output:</text>\n<polyline fill=\"none\" points=\"337.5,-498.5 337.5,-544.5 \" stroke=\"black\"/>\n<text font-family=\"Times,serif\" font-size=\"14.00\" text-anchor=\"middle\" x=\"392.5\" y=\"-529.3\">(None, 6272)</text>\n<polyline fill=\"none\" points=\"337.5,-521.5 447.5,-521.5 \" stroke=\"black\"/>\n<text font-family=\"Times,serif\" font-size=\"14.00\" text-anchor=\"middle\" x=\"392.5\" y=\"-506.3\">(None, 6272)</text>\n</g>\n<!-- 140712578889432&#45;&gt;140712578889320 -->\n<g class=\"edge\" id=\"edge4\"><title>140712578889432-&gt;140712578889320</title>\n<path d=\"M255,-581.366C255,-573.152 255,-563.658 255,-554.725\" fill=\"none\" stroke=\"black\"/>\n<polygon fill=\"black\" points=\"258.5,-554.607 255,-544.607 251.5,-554.607 258.5,-554.607\" stroke=\"black\"/>\n</g>\n<!-- 140710879554752 -->\n<g class=\"node\" id=\"node6\"><title>140710879554752</title>\n<polygon fill=\"none\" points=\"0,-415.5 0,-461.5 510,-461.5 510,-415.5 0,-415.5\" stroke=\"black\"/>\n<text font-family=\"Times,serif\" font-size=\"14.00\" text-anchor=\"middle\" x=\"166\" y=\"-434.8\">batch_normalization_1: BatchNormalization</text>\n<polyline fill=\"none\" points=\"332,-415.5 332,-461.5 \" stroke=\"black\"/>\n<text font-family=\"Times,serif\" font-size=\"14.00\" text-anchor=\"middle\" x=\"366\" y=\"-446.3\">input:</text>\n<polyline fill=\"none\" points=\"332,-438.5 400,-438.5 \" stroke=\"black\"/>\n<text font-family=\"Times,serif\" font-size=\"14.00\" text-anchor=\"middle\" x=\"366\" y=\"-423.3\">output:</text>\n<polyline fill=\"none\" points=\"400,-415.5 400,-461.5 \" stroke=\"black\"/>\n<text font-family=\"Times,serif\" font-size=\"14.00\" text-anchor=\"middle\" x=\"455\" y=\"-446.3\">(None, 6272)</text>\n<polyline fill=\"none\" points=\"400,-438.5 510,-438.5 \" stroke=\"black\"/>\n<text font-family=\"Times,serif\" font-size=\"14.00\" text-anchor=\"middle\" x=\"455\" y=\"-423.3\">(None, 6272)</text>\n</g>\n<!-- 140712578889320&#45;&gt;140710879554752 -->\n<g class=\"edge\" id=\"edge5\"><title>140712578889320-&gt;140710879554752</title>\n<path d=\"M255,-498.366C255,-490.152 255,-480.658 255,-471.725\" fill=\"none\" stroke=\"black\"/>\n<polygon fill=\"black\" points=\"258.5,-471.607 255,-461.607 251.5,-471.607 258.5,-471.607\" stroke=\"black\"/>\n</g>\n<!-- 140710879551728 -->\n<g class=\"node\" id=\"node7\"><title>140710879551728</title>\n<polygon fill=\"none\" points=\"72.5,-332.5 72.5,-378.5 437.5,-378.5 437.5,-332.5 72.5,-332.5\" stroke=\"black\"/>\n<text font-family=\"Times,serif\" font-size=\"14.00\" text-anchor=\"middle\" x=\"152.5\" y=\"-351.8\">reshape_1: Reshape</text>\n<polyline fill=\"none\" points=\"232.5,-332.5 232.5,-378.5 \" stroke=\"black\"/>\n<text font-family=\"Times,serif\" font-size=\"14.00\" text-anchor=\"middle\" x=\"266.5\" y=\"-363.3\">input:</text>\n<polyline fill=\"none\" points=\"232.5,-355.5 300.5,-355.5 \" stroke=\"black\"/>\n<text font-family=\"Times,serif\" font-size=\"14.00\" text-anchor=\"middle\" x=\"266.5\" y=\"-340.3\">output:</text>\n<polyline fill=\"none\" points=\"300.5,-332.5 300.5,-378.5 \" stroke=\"black\"/>\n<text font-family=\"Times,serif\" font-size=\"14.00\" text-anchor=\"middle\" x=\"369\" y=\"-363.3\">(None, 6272)</text>\n<polyline fill=\"none\" points=\"300.5,-355.5 437.5,-355.5 \" stroke=\"black\"/>\n<text font-family=\"Times,serif\" font-size=\"14.00\" text-anchor=\"middle\" x=\"369\" y=\"-340.3\">(None, 128, 7, 7)</text>\n</g>\n<!-- 140710879554752&#45;&gt;140710879551728 -->\n<g class=\"edge\" id=\"edge6\"><title>140710879554752-&gt;140710879551728</title>\n<path d=\"M255,-415.366C255,-407.152 255,-397.658 255,-388.725\" fill=\"none\" stroke=\"black\"/>\n<polygon fill=\"black\" points=\"258.5,-388.607 255,-378.607 251.5,-388.607 258.5,-388.607\" stroke=\"black\"/>\n</g>\n<!-- 140711383684600 -->\n<g class=\"node\" id=\"node8\"><title>140711383684600</title>\n<polygon fill=\"none\" points=\"13.5,-249.5 13.5,-295.5 496.5,-295.5 496.5,-249.5 13.5,-249.5\" stroke=\"black\"/>\n<text font-family=\"Times,serif\" font-size=\"14.00\" text-anchor=\"middle\" x=\"143.5\" y=\"-268.8\">up_sampling2d_1: UpSampling2D</text>\n<polyline fill=\"none\" points=\"273.5,-249.5 273.5,-295.5 \" stroke=\"black\"/>\n<text font-family=\"Times,serif\" font-size=\"14.00\" text-anchor=\"middle\" x=\"307.5\" y=\"-280.3\">input:</text>\n<polyline fill=\"none\" points=\"273.5,-272.5 341.5,-272.5 \" stroke=\"black\"/>\n<text font-family=\"Times,serif\" font-size=\"14.00\" text-anchor=\"middle\" x=\"307.5\" y=\"-257.3\">output:</text>\n<polyline fill=\"none\" points=\"341.5,-249.5 341.5,-295.5 \" stroke=\"black\"/>\n<text font-family=\"Times,serif\" font-size=\"14.00\" text-anchor=\"middle\" x=\"419\" y=\"-280.3\">(None, 128, 7, 7)</text>\n<polyline fill=\"none\" points=\"341.5,-272.5 496.5,-272.5 \" stroke=\"black\"/>\n<text font-family=\"Times,serif\" font-size=\"14.00\" text-anchor=\"middle\" x=\"419\" y=\"-257.3\">(None, 128, 14, 14)</text>\n</g>\n<!-- 140710879551728&#45;&gt;140711383684600 -->\n<g class=\"edge\" id=\"edge7\"><title>140710879551728-&gt;140711383684600</title>\n<path d=\"M255,-332.366C255,-324.152 255,-314.658 255,-305.725\" fill=\"none\" stroke=\"black\"/>\n<polygon fill=\"black\" points=\"258.5,-305.607 255,-295.607 251.5,-305.607 258.5,-305.607\" stroke=\"black\"/>\n</g>\n<!-- 140710879554024 -->\n<g class=\"node\" id=\"node9\"><title>140710879554024</title>\n<polygon fill=\"none\" points=\"68,-166.5 68,-212.5 442,-212.5 442,-166.5 68,-166.5\" stroke=\"black\"/>\n<text font-family=\"Times,serif\" font-size=\"14.00\" text-anchor=\"middle\" x=\"143.5\" y=\"-185.8\">conv2d_3: Conv2D</text>\n<polyline fill=\"none\" points=\"219,-166.5 219,-212.5 \" stroke=\"black\"/>\n<text font-family=\"Times,serif\" font-size=\"14.00\" text-anchor=\"middle\" x=\"253\" y=\"-197.3\">input:</text>\n<polyline fill=\"none\" points=\"219,-189.5 287,-189.5 \" stroke=\"black\"/>\n<text font-family=\"Times,serif\" font-size=\"14.00\" text-anchor=\"middle\" x=\"253\" y=\"-174.3\">output:</text>\n<polyline fill=\"none\" points=\"287,-166.5 287,-212.5 \" stroke=\"black\"/>\n<text font-family=\"Times,serif\" font-size=\"14.00\" text-anchor=\"middle\" x=\"364.5\" y=\"-197.3\">(None, 128, 14, 14)</text>\n<polyline fill=\"none\" points=\"287,-189.5 442,-189.5 \" stroke=\"black\"/>\n<text font-family=\"Times,serif\" font-size=\"14.00\" text-anchor=\"middle\" x=\"364.5\" y=\"-174.3\">(None, 64, 14, 14)</text>\n</g>\n<!-- 140711383684600&#45;&gt;140710879554024 -->\n<g class=\"edge\" id=\"edge8\"><title>140711383684600-&gt;140710879554024</title>\n<path d=\"M255,-249.366C255,-241.152 255,-231.658 255,-222.725\" fill=\"none\" stroke=\"black\"/>\n<polygon fill=\"black\" points=\"258.5,-222.607 255,-212.607 251.5,-222.607 258.5,-222.607\" stroke=\"black\"/>\n</g>\n<!-- 140710879755512 -->\n<g class=\"node\" id=\"node10\"><title>140710879755512</title>\n<polygon fill=\"none\" points=\"18,-83.5 18,-129.5 492,-129.5 492,-83.5 18,-83.5\" stroke=\"black\"/>\n<text font-family=\"Times,serif\" font-size=\"14.00\" text-anchor=\"middle\" x=\"148\" y=\"-102.8\">up_sampling2d_2: UpSampling2D</text>\n<polyline fill=\"none\" points=\"278,-83.5 278,-129.5 \" stroke=\"black\"/>\n<text font-family=\"Times,serif\" font-size=\"14.00\" text-anchor=\"middle\" x=\"312\" y=\"-114.3\">input:</text>\n<polyline fill=\"none\" points=\"278,-106.5 346,-106.5 \" stroke=\"black\"/>\n<text font-family=\"Times,serif\" font-size=\"14.00\" text-anchor=\"middle\" x=\"312\" y=\"-91.3\">output:</text>\n<polyline fill=\"none\" points=\"346,-83.5 346,-129.5 \" stroke=\"black\"/>\n<text font-family=\"Times,serif\" font-size=\"14.00\" text-anchor=\"middle\" x=\"419\" y=\"-114.3\">(None, 64, 14, 14)</text>\n<polyline fill=\"none\" points=\"346,-106.5 492,-106.5 \" stroke=\"black\"/>\n<text font-family=\"Times,serif\" font-size=\"14.00\" text-anchor=\"middle\" x=\"419\" y=\"-91.3\">(None, 64, 28, 28)</text>\n</g>\n<!-- 140710879554024&#45;&gt;140710879755512 -->\n<g class=\"edge\" id=\"edge9\"><title>140710879554024-&gt;140710879755512</title>\n<path d=\"M255,-166.366C255,-158.152 255,-148.658 255,-139.725\" fill=\"none\" stroke=\"black\"/>\n<polygon fill=\"black\" points=\"258.5,-139.607 255,-129.607 251.5,-139.607 258.5,-139.607\" stroke=\"black\"/>\n</g>\n<!-- 140710879559520 -->\n<g class=\"node\" id=\"node11\"><title>140710879559520</title>\n<polygon fill=\"none\" points=\"72.5,-0.5 72.5,-46.5 437.5,-46.5 437.5,-0.5 72.5,-0.5\" stroke=\"black\"/>\n<text font-family=\"Times,serif\" font-size=\"14.00\" text-anchor=\"middle\" x=\"148\" y=\"-19.8\">conv2d_4: Conv2D</text>\n<polyline fill=\"none\" points=\"223.5,-0.5 223.5,-46.5 \" stroke=\"black\"/>\n<text font-family=\"Times,serif\" font-size=\"14.00\" text-anchor=\"middle\" x=\"257.5\" y=\"-31.3\">input:</text>\n<polyline fill=\"none\" points=\"223.5,-23.5 291.5,-23.5 \" stroke=\"black\"/>\n<text font-family=\"Times,serif\" font-size=\"14.00\" text-anchor=\"middle\" x=\"257.5\" y=\"-8.3\">output:</text>\n<polyline fill=\"none\" points=\"291.5,-0.5 291.5,-46.5 \" stroke=\"black\"/>\n<text font-family=\"Times,serif\" font-size=\"14.00\" text-anchor=\"middle\" x=\"364.5\" y=\"-31.3\">(None, 64, 28, 28)</text>\n<polyline fill=\"none\" points=\"291.5,-23.5 437.5,-23.5 \" stroke=\"black\"/>\n<text font-family=\"Times,serif\" font-size=\"14.00\" text-anchor=\"middle\" x=\"364.5\" y=\"-8.3\">(None, 1, 28, 28)</text>\n</g>\n<!-- 140710879755512&#45;&gt;140710879559520 -->\n<g class=\"edge\" id=\"edge10\"><title>140710879755512-&gt;140710879559520</title>\n<path d=\"M255,-83.3664C255,-75.1516 255,-65.6579 255,-56.7252\" fill=\"none\" stroke=\"black\"/>\n<polygon fill=\"black\" points=\"258.5,-56.6068 255,-46.6068 251.5,-56.6069 258.5,-56.6068\" stroke=\"black\"/>\n</g>\n</g>\n</svg>"
          },
          "metadata": {
            "tags": []
          },
          "execution_count": 4
        }
      ]
    },
    {
      "cell_type": "code",
      "metadata": {
        "id": "Rg5SNjCKCjLz",
        "colab_type": "code",
        "colab": {}
      },
      "source": [
        ""
      ],
      "execution_count": 0,
      "outputs": []
    }
  ]
}